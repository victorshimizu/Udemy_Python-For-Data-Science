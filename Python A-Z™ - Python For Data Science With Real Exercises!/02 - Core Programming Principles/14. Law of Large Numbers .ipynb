{
 "cells": [
  {
   "cell_type": "code",
   "execution_count": null,
   "metadata": {},
   "outputs": [],
   "source": [
    "import numpy as np\n",
    "from numpy.random import randn"
   ]
  },
  {
   "cell_type": "code",
   "execution_count": null,
   "metadata": {},
   "outputs": [],
   "source": [
    "#Minha solução\n",
    "N = 100000\n",
    "count = 0\n",
    "for i in range(N):\n",
    "    x = randn()\n",
    "    #print(x)\n",
    "    if x >= -1 and x <= 1:\n",
    "        count += 1\n",
    "mean = 100 * (count / N)\n",
    "print(\"Mean = {}%\".format(mean))"
   ]
  },
  {
   "cell_type": "markdown",
   "metadata": {},
   "source": [
    "---"
   ]
  },
  {
   "cell_type": "code",
   "execution_count": null,
   "metadata": {},
   "outputs": [],
   "source": [
    "#Otimizada\n",
    "N = 100000                        #specify sample size \n",
    "count = 0                         #reset counter\n",
    "for i in randn(N):                #iterate over random values\n",
    "    if i > -1 and i < 1:        #check where iterated variable falls\n",
    "        count += 1                #increase counter if condition is met\n",
    "mean = 100 * (count / N)          #calculate hit-ratio  \n",
    "print(\"Mean = {}%\".format(mean))  #print answer"
   ]
  },
  {
   "cell_type": "markdown",
   "metadata": {},
   "source": [
    "---"
   ]
  },
  {
   "cell_type": "code",
   "execution_count": null,
   "metadata": {},
   "outputs": [],
   "source": [
    "#Review"
   ]
  },
  {
   "cell_type": "code",
   "execution_count": 1,
   "metadata": {},
   "outputs": [],
   "source": [
    "import numpy as np\n",
    "from numpy.random import randn"
   ]
  },
  {
   "cell_type": "code",
   "execution_count": 2,
   "metadata": {},
   "outputs": [
    {
     "name": "stdout",
     "output_type": "stream",
     "text": [
      "Mean =  80.0\n"
     ]
    }
   ],
   "source": [
    "N = 10\n",
    "count = 0\n",
    "for i in randn(N):\n",
    "    if i > -1 and i < 1:\n",
    "        count += 1\n",
    "mean = 100 * count / N\n",
    "print(\"Mean = \", mean)"
   ]
  },
  {
   "cell_type": "code",
   "execution_count": null,
   "metadata": {},
   "outputs": [],
   "source": []
  }
 ],
 "metadata": {
  "kernelspec": {
   "display_name": "Python 3",
   "language": "python",
   "name": "python3"
  },
  "language_info": {
   "codemirror_mode": {
    "name": "ipython",
    "version": 3
   },
   "file_extension": ".py",
   "mimetype": "text/x-python",
   "name": "python",
   "nbconvert_exporter": "python",
   "pygments_lexer": "ipython3",
   "version": "3.8.5"
  }
 },
 "nbformat": 4,
 "nbformat_minor": 2
}
