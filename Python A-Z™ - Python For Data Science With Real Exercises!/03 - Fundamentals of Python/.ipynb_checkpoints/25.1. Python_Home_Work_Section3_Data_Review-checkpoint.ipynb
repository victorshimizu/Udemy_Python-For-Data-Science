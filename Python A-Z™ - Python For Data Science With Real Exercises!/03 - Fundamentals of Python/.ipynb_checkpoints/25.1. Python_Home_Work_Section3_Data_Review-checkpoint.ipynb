{
 "cells": [
  {
   "cell_type": "code",
   "execution_count": null,
   "metadata": {},
   "outputs": [],
   "source": [
    "#Operations with 2 lists\n",
    "\n",
    "a = [1, 2, 3]\n",
    "b = [1, 2, 3]\n",
    "\n",
    "ab = []\n",
    "\n",
    "for i in range(0, len(a)):\n",
    "    ab.append(a[i] * b[i])\n",
    "print(ab)"
   ]
  },
  {
   "cell_type": "code",
   "execution_count": null,
   "metadata": {},
   "outputs": [],
   "source": [
    "#List comprehensions\n",
    "\n",
    "doubled_a = [i * 2 for i in a]\n",
    "print(doubled_a)"
   ]
  },
  {
   "cell_type": "code",
   "execution_count": null,
   "metadata": {},
   "outputs": [],
   "source": [
    "#New functions\n",
    "\n",
    "print(round(2.5666, 2))\n",
    "print(max(a))\n",
    "print(min(a))"
   ]
  },
  {
   "cell_type": "code",
   "execution_count": 1,
   "metadata": {},
   "outputs": [],
   "source": [
    "import numpy as np"
   ]
  },
  {
   "cell_type": "code",
   "execution_count": 2,
   "metadata": {},
   "outputs": [],
   "source": [
    "#Data \n",
    "revenue = [14574.49, 7606.46, 8611.41, 9175.41, 8058.65, 8105.44, 11496.28, 9766.09, 10305.32, 14379.96, 10713.97, 15433.50]\n",
    "expenses = [12051.82, 5695.07, 12319.20, 12089.72, 8658.57, 840.20, 3285.73, 5821.12, 6976.93, 16618.61, 10054.37, 3803.96]\n",
    "\n",
    "length = len(revenue)"
   ]
  },
  {
   "cell_type": "code",
   "execution_count": 3,
   "metadata": {},
   "outputs": [],
   "source": [
    "#Using lists"
   ]
  },
  {
   "cell_type": "code",
   "execution_count": 4,
   "metadata": {},
   "outputs": [],
   "source": [
    "#Profit for each month\n",
    "\n",
    "monthly_profit = []\n",
    "\n",
    "for i in range(0, length):\n",
    "    monthly_profit.append(round(revenue[i], 2) - round(expenses[i], 2))"
   ]
  },
  {
   "cell_type": "code",
   "execution_count": 5,
   "metadata": {},
   "outputs": [],
   "source": [
    "#Profit after taxes\n",
    "\n",
    "profit_taxed = [i * 0.7 for i in monthly_profit]"
   ]
  },
  {
   "cell_type": "code",
   "execution_count": 6,
   "metadata": {},
   "outputs": [],
   "source": [
    "#Profit margin for each month\n",
    "\n",
    "profit_margin = []\n",
    "\n",
    "for i in range(0, length):\n",
    "    profit_margin.append(int(100 * profit_taxed[i] / revenue[i]))"
   ]
  },
  {
   "cell_type": "code",
   "execution_count": 7,
   "metadata": {},
   "outputs": [],
   "source": [
    "#Good and Bad months\n",
    "\n",
    "mean_year = sum(profit_taxed) / len(profit_taxed)\n",
    "\n",
    "good_months = []\n",
    "bad_months = []\n",
    "\n",
    "for i in profit_taxed:\n",
    "    if(i > mean_year):\n",
    "        good_months.append(profit_taxed.index(i) + 1)\n",
    "    else:\n",
    "        bad_months.append(profit_taxed.index(i) + 1)"
   ]
  },
  {
   "cell_type": "code",
   "execution_count": 8,
   "metadata": {},
   "outputs": [],
   "source": [
    "#Best month\n",
    "\n",
    "best_month_value = max(profit_taxed)\n",
    "\n",
    "for i in profit_taxed:\n",
    "    if(best_month_value == i):\n",
    "        best_month = profit_taxed.index(i) + 1 "
   ]
  },
  {
   "cell_type": "code",
   "execution_count": 9,
   "metadata": {},
   "outputs": [],
   "source": [
    "#Worst month\n",
    "\n",
    "worst_month_value = min(profit_taxed)\n",
    "\n",
    "for i in profit_taxed:\n",
    "    if(worst_month_value == i):\n",
    "        worst_month = profit_taxed.index(i) + 1 "
   ]
  },
  {
   "cell_type": "code",
   "execution_count": 10,
   "metadata": {},
   "outputs": [],
   "source": [
    "#Converting all lists\n",
    "\n",
    "revenue_1000 = [int(i / 1000) for i in revenue]\n",
    "expenses_1000 = [int(i / 1000) for i in expenses]\n",
    "monthly_profit_1000 = [int(i / 1000) for i in monthly_profit]\n",
    "profit_taxed_1000 = [int(i / 1000) for i in profit_taxed]"
   ]
  },
  {
   "cell_type": "code",
   "execution_count": 11,
   "metadata": {},
   "outputs": [
    {
     "name": "stdout",
     "output_type": "stream",
     "text": [
      "Revenue:\n",
      "[14, 7, 8, 9, 8, 8, 11, 9, 10, 14, 10, 15]\n",
      "Expenses\n",
      "[12, 5, 12, 12, 8, 0, 3, 5, 6, 16, 10, 3]\n",
      "Profit for each month:\n",
      "[2, 1, -3, -2, 0, 7, 8, 3, 3, -2, 0, 11]\n",
      "Profit after taxes (30%):\n",
      "[1, 1, -2, -2, 0, 5, 5, 2, 2, -1, 0, 8]\n",
      "Profit margin for each month (%)\n",
      "[12, 17, -30, -22, -5, 62, 49, 28, 22, -10, 4, 52]\n",
      "Good months:\n",
      "[1, 6, 7, 8, 9, 12]\n",
      "Bad months:\n",
      "[2, 3, 4, 5, 10, 11]\n",
      "Best month:\n",
      "12\n",
      "Worst month:\n",
      "3\n"
     ]
    }
   ],
   "source": [
    "#Results\n",
    "\n",
    "print(\"Revenue:\")\n",
    "print(revenue_1000)\n",
    "print(\"Expenses\")\n",
    "print(expenses_1000)\n",
    "print(\"Profit for each month:\")\n",
    "print(monthly_profit_1000)\n",
    "print(\"Profit after taxes (30%):\")\n",
    "print(profit_taxed_1000)\n",
    "print(\"Profit margin for each month (%)\")\n",
    "print(profit_margin)\n",
    "print(\"Good months:\")\n",
    "print(good_months)\n",
    "print(\"Bad months:\")\n",
    "print(bad_months)\n",
    "print(\"Best month:\")\n",
    "print(best_month)\n",
    "print(\"Worst month:\")\n",
    "print(worst_month)"
   ]
  },
  {
   "cell_type": "code",
   "execution_count": null,
   "metadata": {},
   "outputs": [],
   "source": [
    "#Using arrays"
   ]
  },
  {
   "cell_type": "code",
   "execution_count": 12,
   "metadata": {},
   "outputs": [],
   "source": [
    "a_revenue = np.array(revenue).round(2)\n",
    "a_expenses = np.array(expenses).round(2)"
   ]
  },
  {
   "cell_type": "code",
   "execution_count": 13,
   "metadata": {},
   "outputs": [],
   "source": [
    "#Profit for each month\n",
    "\n",
    "a_monthly_profit = a_revenue - a_expenses"
   ]
  },
  {
   "cell_type": "code",
   "execution_count": 14,
   "metadata": {},
   "outputs": [],
   "source": [
    "#Profit after taxes\n",
    "\n",
    "a_profit_taxed = (a_monthly_profit * 0.7).round(2)"
   ]
  },
  {
   "cell_type": "code",
   "execution_count": 21,
   "metadata": {},
   "outputs": [],
   "source": [
    "#Profit margin for each month\n",
    "\n",
    "a_profit_margin = (100 * a_profit_taxed / a_revenue).round(2)"
   ]
  },
  {
   "cell_type": "code",
   "execution_count": 16,
   "metadata": {},
   "outputs": [],
   "source": [
    "#Good and Bad months\n",
    "\n",
    "a_mean_year = np.mean(a_profit_taxed)\n",
    "\n",
    "a_good_months = np.array(good_months)\n",
    "a_bad_months = np.array(bad_months)"
   ]
  },
  {
   "cell_type": "code",
   "execution_count": 17,
   "metadata": {},
   "outputs": [],
   "source": [
    "#Best month\n",
    "\n",
    "a_best_month_value = a_profit_taxed.max()\n",
    "\n",
    "for i in range(length):\n",
    "    if(a_best_month_value == a_profit_taxed[i]):\n",
    "        a_best_month = i + 1 "
   ]
  },
  {
   "cell_type": "code",
   "execution_count": 18,
   "metadata": {},
   "outputs": [],
   "source": [
    "#Worst month\n",
    "\n",
    "a_worst_month_value = a_profit_taxed.min()\n",
    "\n",
    "for i in range(length):\n",
    "    if(a_worst_month_value == a_profit_taxed[i]):\n",
    "        a_worst_month = i + 1 "
   ]
  },
  {
   "cell_type": "code",
   "execution_count": 23,
   "metadata": {},
   "outputs": [],
   "source": [
    "#Converting all lists\n",
    "\n",
    "a_revenue_1000 = (a_revenue/1000).astype(int)\n",
    "a_expenses_1000 = (a_expenses/1000).astype(int)\n",
    "a_monthly_profit_1000 = (a_monthly_profit/1000).astype(int)\n",
    "a_profit_taxed_1000 = (a_profit_taxed/1000).astype(int)\n",
    "a_profit_margin_result = (a_profit_margin).astype(int)"
   ]
  },
  {
   "cell_type": "code",
   "execution_count": 24,
   "metadata": {},
   "outputs": [
    {
     "name": "stdout",
     "output_type": "stream",
     "text": [
      "Revenue:\n",
      "[14  7  8  9  8  8 11  9 10 14 10 15]\n",
      "Expenses\n",
      "[12  5 12 12  8  0  3  5  6 16 10  3]\n",
      "Profit for each month:\n",
      "[ 2  1 -3 -2  0  7  8  3  3 -2  0 11]\n",
      "Profit after taxes (30%):\n",
      "[ 1  1 -2 -2  0  5  5  2  2 -1  0  8]\n",
      "Profit margin for each month (%)\n",
      "[ 12  17 -30 -22  -5  62  49  28  22 -10   4  52]\n",
      "Good months:\n",
      "[ 1  6  7  8  9 12]\n",
      "Bad months:\n",
      "[ 2  3  4  5 10 11]\n",
      "Best month:\n",
      "12\n",
      "Worst month:\n",
      "3\n"
     ]
    }
   ],
   "source": [
    "#Results\n",
    "\n",
    "print(\"Revenue:\")\n",
    "print(a_revenue_1000)\n",
    "print(\"Expenses\")\n",
    "print(a_expenses_1000)\n",
    "print(\"Profit for each month:\")\n",
    "print(a_monthly_profit_1000)\n",
    "print(\"Profit after taxes (30%):\")\n",
    "print(a_profit_taxed_1000)\n",
    "print(\"Profit margin for each month (%)\")\n",
    "print(a_profit_margin_result)\n",
    "print(\"Good months:\")\n",
    "print(a_good_months)\n",
    "print(\"Bad months:\")\n",
    "print(a_bad_months)\n",
    "print(\"Best month:\")\n",
    "print(a_best_month)\n",
    "print(\"Worst month:\")\n",
    "print(a_worst_month)"
   ]
  },
  {
   "cell_type": "code",
   "execution_count": null,
   "metadata": {},
   "outputs": [],
   "source": []
  }
 ],
 "metadata": {
  "kernelspec": {
   "display_name": "Python 3",
   "language": "python",
   "name": "python3"
  },
  "language_info": {
   "codemirror_mode": {
    "name": "ipython",
    "version": 3
   },
   "file_extension": ".py",
   "mimetype": "text/x-python",
   "name": "python",
   "nbconvert_exporter": "python",
   "pygments_lexer": "ipython3",
   "version": "3.8.5"
  }
 },
 "nbformat": 4,
 "nbformat_minor": 4
}
