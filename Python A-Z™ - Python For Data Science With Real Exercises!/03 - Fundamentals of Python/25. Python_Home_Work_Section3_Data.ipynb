{
 "cells": [
  {
   "cell_type": "code",
   "execution_count": 2,
   "metadata": {},
   "outputs": [],
   "source": [
    "import numpy as np"
   ]
  },
  {
   "cell_type": "code",
   "execution_count": 3,
   "metadata": {},
   "outputs": [],
   "source": [
    "#Data \n",
    "revenue = [14574.49, 7606.46, 8611.41, 9175.41, 8058.65, 8105.44, 11496.28, 9766.09, 10305.32, 14379.96, 10713.97, 15433.50]\n",
    "expenses = [12051.82, 5695.07, 12319.20, 12089.72, 8658.57, 840.20, 3285.73, 5821.12, 6976.93, 16618.61, 10054.37, 3803.96]"
   ]
  },
  {
   "cell_type": "code",
   "execution_count": 4,
   "metadata": {},
   "outputs": [],
   "source": [
    "a_revenue = np.array(revenue)\n",
    "a_expenses = np.array(expenses)"
   ]
  },
  {
   "cell_type": "code",
   "execution_count": 5,
   "metadata": {},
   "outputs": [],
   "source": [
    "#profit for each month"
   ]
  },
  {
   "cell_type": "code",
   "execution_count": 6,
   "metadata": {},
   "outputs": [
    {
     "name": "stdout",
     "output_type": "stream",
     "text": [
      "[ 2522.67  1911.39 -3707.79 -2914.31  -599.92  7265.24  8210.55  3944.97\n",
      "  3328.39 -2238.65   659.6  11629.54]\n"
     ]
    }
   ],
   "source": [
    "#profit = []\n",
    "\n",
    "#for i in range(0, len(revenue)):\n",
    "#    profit.append(revenue[i] - expenses[i])\n",
    "#print(profit)\n",
    "\n",
    "profit = a_revenue - a_expenses\n",
    "profit.round(2)\n",
    "print(profit)"
   ]
  },
  {
   "cell_type": "code",
   "execution_count": 7,
   "metadata": {},
   "outputs": [],
   "source": [
    "#profit after tax for each month (30% tax rate)"
   ]
  },
  {
   "cell_type": "code",
   "execution_count": 8,
   "metadata": {},
   "outputs": [
    {
     "name": "stdout",
     "output_type": "stream",
     "text": [
      "[ 1765.87  1337.97 -2595.45 -2040.02  -419.94  5085.67  5747.38  2761.48\n",
      "  2329.87 -1567.06   461.72  8140.68]\n"
     ]
    }
   ],
   "source": [
    "# profit_taxed = []\n",
    "\n",
    "# for i in range(0, len(profit)):\n",
    "#     profit_taxed.append(round(profit[i] * 0.7, 2))\n",
    "# print(profit_taxed)\n",
    "\n",
    "profit_taxed = profit * 0.7\n",
    "profit_taxed_round = profit_taxed.round(2)\n",
    "print(profit_taxed_round)"
   ]
  },
  {
   "cell_type": "code",
   "execution_count": 9,
   "metadata": {},
   "outputs": [],
   "source": [
    "#profit margin for each month (profit after tax / revenue)"
   ]
  },
  {
   "cell_type": "code",
   "execution_count": 10,
   "metadata": {},
   "outputs": [
    {
     "name": "stdout",
     "output_type": "stream",
     "text": [
      "[ 12.12  17.59 -30.14 -22.23  -5.21  62.74  49.99  28.28  22.61 -10.9\n",
      "   4.31  52.75]\n"
     ]
    }
   ],
   "source": [
    "# profit_margin = []\n",
    "\n",
    "# for i in range(0, len(profit_taxed)):\n",
    "#     profit_margin.append(round(100 * profit_taxed[i] / revenue[i], 2))\n",
    "# print(profit_margin)\n",
    "\n",
    "profit_margin = 100 * profit_taxed / a_revenue\n",
    "profit_margin_round = profit_margin.round(2)\n",
    "print(profit_margin_round)"
   ]
  },
  {
   "cell_type": "code",
   "execution_count": 11,
   "metadata": {},
   "outputs": [],
   "source": [
    "#good months (profit after tax > mean of the year) - bad months (profit after tax < mean of the year)"
   ]
  },
  {
   "cell_type": "code",
   "execution_count": 12,
   "metadata": {},
   "outputs": [
    {
     "name": "stdout",
     "output_type": "stream",
     "text": [
      "[1, 6, 7, 8, 9, 12]\n",
      "[2, 3, 4, 5, 10, 11]\n"
     ]
    }
   ],
   "source": [
    "good_months = []\n",
    "bad_months = []\n",
    "\n",
    "mean_pat = sum(profit_taxed) / len(profit_taxed)\n",
    "\n",
    "for i in range(0, len(profit_taxed)):\n",
    "    if profit_taxed[i] > mean_pat:\n",
    "        good_months.append(i + 1)\n",
    "    else:\n",
    "        bad_months.append(i + 1)\n",
    "print(good_months)\n",
    "print(bad_months)   "
   ]
  },
  {
   "cell_type": "code",
   "execution_count": 13,
   "metadata": {},
   "outputs": [],
   "source": [
    "#best month (max profit after tax)"
   ]
  },
  {
   "cell_type": "code",
   "execution_count": 30,
   "metadata": {},
   "outputs": [
    {
     "name": "stdout",
     "output_type": "stream",
     "text": [
      "12\n"
     ]
    }
   ],
   "source": [
    "# best_month = max(profit_taxed)\n",
    "# print(best_month)\n",
    "\n",
    "for i in range(len(profit_taxed_round)):\n",
    "    if profit_taxed_round[i] == profit_taxed_round.max():\n",
    "        best_month = i + 1\n",
    "print(best_month)"
   ]
  },
  {
   "cell_type": "code",
   "execution_count": 26,
   "metadata": {},
   "outputs": [],
   "source": [
    "#worst month (min profit afters tax)"
   ]
  },
  {
   "cell_type": "code",
   "execution_count": 27,
   "metadata": {},
   "outputs": [
    {
     "name": "stdout",
     "output_type": "stream",
     "text": [
      "3\n"
     ]
    }
   ],
   "source": [
    "# worst_month = min(profit_taxed)\n",
    "# print(worst_month)\n",
    "\n",
    "for i in range(0, len(profit_taxed_round)):\n",
    "    if profit_taxed_round[i] == profit_taxed_round.min():\n",
    "        worst_month = i + 1\n",
    "print(worst_month)"
   ]
  },
  {
   "cell_type": "code",
   "execution_count": 33,
   "metadata": {},
   "outputs": [],
   "source": [
    "#Convert All Calculations\n",
    "revenue_1000 = (a_revenue/1000).astype(int)\n",
    "expenses_1000 = (a_expenses/1000).astype(int)\n",
    "profit_1000 = (profit/1000).astype(int)\n",
    "profit_taxed_1000 = (profit_taxed_round/1000).astype(int)\n",
    "profit_margin_result = profit_margin_round.astype(int)"
   ]
  },
  {
   "cell_type": "code",
   "execution_count": 35,
   "metadata": {},
   "outputs": [
    {
     "name": "stdout",
     "output_type": "stream",
     "text": [
      "Revenue: \n",
      "[14  7  8  9  8  8 11  9 10 14 10 15]\n",
      "Expenses: \n",
      "[12  5 12 12  8  0  3  5  6 16 10  3]\n",
      "Profit: \n",
      "[ 2  1 -3 -2  0  7  8  3  3 -2  0 11]\n",
      "Profit after tax: \n",
      "[ 1  1 -2 -2  0  5  5  2  2 -1  0  8]\n",
      "Profit margin (%): \n",
      "[ 12  17 -30 -22  -5  62  49  28  22 -10   4  52]\n",
      "Good months: \n",
      "[1, 6, 7, 8, 9, 12]\n",
      "Bad months: \n",
      "[2, 3, 4, 5, 10, 11]\n",
      "Best month: \n",
      "12\n",
      "Worst month: \n",
      "3\n"
     ]
    }
   ],
   "source": [
    "#Print Results\n",
    "print(\"Revenue: \") \n",
    "print(revenue_1000)\n",
    "print(\"Expenses: \") \n",
    "print(expenses_1000)\n",
    "print(\"Profit: \")\n",
    "print(profit_1000)\n",
    "print(\"Profit after tax: \")\n",
    "print(profit_taxed_1000)\n",
    "print(\"Profit margin (%): \")\n",
    "print(profit_margin_result)\n",
    "print(\"Good months: \")\n",
    "print(good_months)\n",
    "print(\"Bad months: \")\n",
    "print(bad_months)\n",
    "print(\"Best month: \")\n",
    "print(best_month)\n",
    "print(\"Worst month: \")\n",
    "print(worst_month)"
   ]
  },
  {
   "cell_type": "code",
   "execution_count": null,
   "metadata": {},
   "outputs": [],
   "source": []
  }
 ],
 "metadata": {
  "kernelspec": {
   "display_name": "Python 3",
   "language": "python",
   "name": "python3"
  },
  "language_info": {
   "codemirror_mode": {
    "name": "ipython",
    "version": 3
   },
   "file_extension": ".py",
   "mimetype": "text/x-python",
   "name": "python",
   "nbconvert_exporter": "python",
   "pygments_lexer": "ipython3",
   "version": "3.8.5"
  }
 },
 "nbformat": 4,
 "nbformat_minor": 1
}
