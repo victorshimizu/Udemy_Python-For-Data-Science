{
 "cells": [
  {
   "cell_type": "code",
   "execution_count": 3,
   "metadata": {},
   "outputs": [],
   "source": [
    "#Dear Student,\n",
    "#\n",
    "#Welcome to the world of Basketball Data!\n",
    "#I'm sure you will enjoy this section of the Python Programming course.\n",
    "#\n",
    "#Instructions for this dataset:\n",
    "# Simply copy ALL the lines in this script by pressing \n",
    "# CTRL+A on Windows or CMND+A on Mac and run the Jupyter cell\n",
    "# Once you have executed the commands the following objects\n",
    "# will be created:\n",
    "# Matrices:\n",
    "# - Salary\n",
    "# - Games\n",
    "# - MinutesPlayed\n",
    "# - FieldGoals\n",
    "# - FieldGoalAttempts\n",
    "# - Points\n",
    "# Lists:\n",
    "# - Players\n",
    "# - Seasons\n",
    "# Dictionaries:\n",
    "# - Sdict\n",
    "# - Pdict\n",
    "#We will understand these inside the course.\n",
    "#\n",
    "#Sincerely,\n",
    "#Kirill Eremenko\n",
    "#www.superdatascience.com\n",
    "\n",
    "#Copyright: These datasets were prepared using publicly available data.\n",
    "#           However, theses scripts are subject to Copyright Laws. \n",
    "#           If you wish to use these Python scripts outside of the Python Programming Course\n",
    "#           by Kirill Eremenko, you may do so by referencing www.superdatascience.com in your work.\n",
    "\n",
    "#Comments:\n",
    "#Seasons are labeled based on the first year in the season\n",
    "#E.g. the 2012-2013 season is preseneted as simply 2012\n",
    "\n",
    "#Notes and Corrections to the data:\n",
    "#Kevin Durant: 2006 - College Data Used\n",
    "#Kevin Durant: 2005 - Proxied With 2006 Data\n",
    "#Derrick Rose: 2012 - Did Not Play\n",
    "#Derrick Rose: 2007 - College Data Used\n",
    "#Derrick Rose: 2006 - Proxied With 2007 Data\n",
    "#Derrick Rose: 2005 - Proxied With 2007 Data\n",
    "\n",
    "#Import numpy\n",
    "import numpy as np\n",
    "\n",
    "#Seasons\n",
    "Seasons = [\"2005\",\"2006\",\"2007\",\"2008\",\"2009\",\"2010\",\"2011\",\"2012\",\"2013\",\"2014\"]\n",
    "Sdict = {\"2005\":0,\"2006\":1,\"2007\":2,\"2008\":3,\"2009\":4,\"2010\":5,\"2011\":6,\"2012\":7,\"2013\":8,\"2014\":9}\n",
    "\n",
    "#Players\n",
    "Players = [\"KobeBryant\",\"JoeJohnson\",\"LeBronJames\",\"CarmeloAnthony\",\"DwightHoward\",\"ChrisBosh\",\"ChrisPaul\",\"KevinDurant\",\"DerrickRose\",\"DwayneWade\"]\n",
    "Pdict = {\"KobeBryant\":0,\"JoeJohnson\":1,\"LeBronJames\":2,\"CarmeloAnthony\":3,\"DwightHoward\":4,\"ChrisBosh\":5,\"ChrisPaul\":6,\"KevinDurant\":7,\"DerrickRose\":8,\"DwayneWade\":9}\n",
    "\n",
    "#Salaries\n",
    "KobeBryant_Salary = [15946875,17718750,19490625,21262500,23034375,24806250,25244493,27849149,30453805,23500000]\n",
    "JoeJohnson_Salary = [12000000,12744189,13488377,14232567,14976754,16324500,18038573,19752645,21466718,23180790]\n",
    "LeBronJames_Salary = [4621800,5828090,13041250,14410581,15779912,14500000,16022500,17545000,19067500,20644400]\n",
    "CarmeloAnthony_Salary = [3713640,4694041,13041250,14410581,15779912,17149243,18518574,19450000,22407474,22458000]\n",
    "DwightHoward_Salary = [4493160,4806720,6061274,13758000,15202590,16647180,18091770,19536360,20513178,21436271]\n",
    "ChrisBosh_Salary = [3348000,4235220,12455000,14410581,15779912,14500000,16022500,17545000,19067500,20644400]\n",
    "ChrisPaul_Salary = [3144240,3380160,3615960,4574189,13520500,14940153,16359805,17779458,18668431,20068563]\n",
    "KevinDurant_Salary = [0,0,4171200,4484040,4796880,6053663,15506632,16669630,17832627,18995624]\n",
    "DerrickRose_Salary = [0,0,0,4822800,5184480,5546160,6993708,16402500,17632688,18862875]\n",
    "DwayneWade_Salary = [3031920,3841443,13041250,14410581,15779912,14200000,15691000,17182000,18673000,15000000]\n",
    "#Matrix\n",
    "Salary = np.array([KobeBryant_Salary, JoeJohnson_Salary, LeBronJames_Salary, CarmeloAnthony_Salary, DwightHoward_Salary, ChrisBosh_Salary, ChrisPaul_Salary, KevinDurant_Salary, DerrickRose_Salary, DwayneWade_Salary])\n",
    "\n",
    "#Games \n",
    "KobeBryant_G = [80,77,82,82,73,82,58,78,6,35]\n",
    "JoeJohnson_G = [82,57,82,79,76,72,60,72,79,80]\n",
    "LeBronJames_G = [79,78,75,81,76,79,62,76,77,69]\n",
    "CarmeloAnthony_G = [80,65,77,66,69,77,55,67,77,40]\n",
    "DwightHoward_G = [82,82,82,79,82,78,54,76,71,41]\n",
    "ChrisBosh_G = [70,69,67,77,70,77,57,74,79,44]\n",
    "ChrisPaul_G = [78,64,80,78,45,80,60,70,62,82]\n",
    "KevinDurant_G = [35,35,80,74,82,78,66,81,81,27]\n",
    "DerrickRose_G = [40,40,40,81,78,81,39,0,10,51]\n",
    "DwayneWade_G = [75,51,51,79,77,76,49,69,54,62]\n",
    "#Matrix\n",
    "Games = np.array([KobeBryant_G, JoeJohnson_G, LeBronJames_G, CarmeloAnthony_G, DwightHoward_G, ChrisBosh_G, ChrisPaul_G, KevinDurant_G, DerrickRose_G, DwayneWade_G])\n",
    "\n",
    "#Minutes Played\n",
    "KobeBryant_MP = [3277,3140,3192,2960,2835,2779,2232,3013,177,1207]\n",
    "JoeJohnson_MP = [3340,2359,3343,3124,2886,2554,2127,2642,2575,2791]\n",
    "LeBronJames_MP = [3361,3190,3027,3054,2966,3063,2326,2877,2902,2493]\n",
    "CarmeloAnthony_MP = [2941,2486,2806,2277,2634,2751,1876,2482,2982,1428]\n",
    "DwightHoward_MP = [3021,3023,3088,2821,2843,2935,2070,2722,2396,1223]\n",
    "ChrisBosh_MP = [2751,2658,2425,2928,2526,2795,2007,2454,2531,1556]\n",
    "ChrisPaul_MP = [2808,2353,3006,3002,1712,2880,2181,2335,2171,2857]\n",
    "KevinDurant_MP = [1255,1255,2768,2885,3239,3038,2546,3119,3122,913]\n",
    "DerrickRose_MP = [1168,1168,1168,3000,2871,3026,1375,0,311,1530]\n",
    "DwayneWade_MP = [2892,1931,1954,3048,2792,2823,1625,2391,1775,1971]\n",
    "#Matrix\n",
    "MinutesPlayed = np.array([KobeBryant_MP, JoeJohnson_MP, LeBronJames_MP, CarmeloAnthony_MP, DwightHoward_MP, ChrisBosh_MP, ChrisPaul_MP, KevinDurant_MP, DerrickRose_MP, DwayneWade_MP])\n",
    "\n",
    "#Field Goals\n",
    "KobeBryant_FG = [978,813,775,800,716,740,574,738,31,266]\n",
    "JoeJohnson_FG = [632,536,647,620,635,514,423,445,462,446]\n",
    "LeBronJames_FG = [875,772,794,789,768,758,621,765,767,624]\n",
    "CarmeloAnthony_FG = [756,691,728,535,688,684,441,669,743,358]\n",
    "DwightHoward_FG = [468,526,583,560,510,619,416,470,473,251]\n",
    "ChrisBosh_FG = [549,543,507,615,600,524,393,485,492,343]\n",
    "ChrisPaul_FG = [407,381,630,631,314,430,425,412,406,568]\n",
    "KevinDurant_FG = [306,306,587,661,794,711,643,731,849,238]\n",
    "DerrickRose_FG = [208,208,208,574,672,711,302,0,58,338]\n",
    "DwayneWade_FG = [699,472,439,854,719,692,416,569,415,509]\n",
    "#Matrix\n",
    "FieldGoals  = np.array([KobeBryant_FG, JoeJohnson_FG, LeBronJames_FG, CarmeloAnthony_FG, DwightHoward_FG, ChrisBosh_FG, ChrisPaul_FG, KevinDurant_FG, DerrickRose_FG, DwayneWade_FG])\n",
    "\n",
    "#Field Goal Attempts\n",
    "KobeBryant_FGA = [2173,1757,1690,1712,1569,1639,1336,1595,73,713]\n",
    "JoeJohnson_FGA = [1395,1139,1497,1420,1386,1161,931,1052,1018,1025]\n",
    "LeBronJames_FGA = [1823,1621,1642,1613,1528,1485,1169,1354,1353,1279]\n",
    "CarmeloAnthony_FGA = [1572,1453,1481,1207,1502,1503,1025,1489,1643,806]\n",
    "DwightHoward_FGA = [881,873,974,979,834,1044,726,813,800,423]\n",
    "ChrisBosh_FGA = [1087,1094,1027,1263,1158,1056,807,907,953,745]\n",
    "ChrisPaul_FGA = [947,871,1291,1255,637,928,890,856,870,1170]\n",
    "KevinDurant_FGA = [647,647,1366,1390,1668,1538,1297,1433,1688,467]\n",
    "DerrickRose_FGA = [436,436,436,1208,1373,1597,695,0,164,835]\n",
    "DwayneWade_FGA = [1413,962,937,1739,1511,1384,837,1093,761,1084]\n",
    "#Matrix\n",
    "FieldGoalAttempts = np.array([KobeBryant_FGA, JoeJohnson_FGA, LeBronJames_FGA, CarmeloAnthony_FGA, DwightHoward_FGA, ChrisBosh_FGA, ChrisPaul_FGA, KevinDurant_FGA, DerrickRose_FGA, DwayneWade_FGA])\n",
    "\n",
    "#Points\n",
    "KobeBryant_PTS = [2832,2430,2323,2201,1970,2078,1616,2133,83,782]\n",
    "JoeJohnson_PTS = [1653,1426,1779,1688,1619,1312,1129,1170,1245,1154]\n",
    "LeBronJames_PTS = [2478,2132,2250,2304,2258,2111,1683,2036,2089,1743]\n",
    "CarmeloAnthony_PTS = [2122,1881,1978,1504,1943,1970,1245,1920,2112,966]\n",
    "DwightHoward_PTS = [1292,1443,1695,1624,1503,1784,1113,1296,1297,646]\n",
    "ChrisBosh_PTS = [1572,1561,1496,1746,1678,1438,1025,1232,1281,928]\n",
    "ChrisPaul_PTS = [1258,1104,1684,1781,841,1268,1189,1186,1185,1564]\n",
    "KevinDurant_PTS = [903,903,1624,1871,2472,2161,1850,2280,2593,686]\n",
    "DerrickRose_PTS = [597,597,597,1361,1619,2026,852,0,159,904]\n",
    "DwayneWade_PTS = [2040,1397,1254,2386,2045,1941,1082,1463,1028,1331]\n",
    "#Matrix\n",
    "Points = np.array([KobeBryant_PTS, JoeJohnson_PTS, LeBronJames_PTS, CarmeloAnthony_PTS, DwightHoward_PTS, ChrisBosh_PTS, ChrisPaul_PTS, KevinDurant_PTS, DerrickRose_PTS, DwayneWade_PTS])             \n",
    "      \n",
    "#Free Throws\n",
    "KobeBryant_FT = [696,667,623,483,439,483,381,525,18,196]\n",
    "JoeJohnson_FT = [261,235,316,299,220,195,158,132,159,141]\n",
    "LeBronJames_FT = [601,489,549,594,593,503,387,403,439,375]\n",
    "CarmeloAnthony_FT = [573,459,464,371,508,507,295,425,459,189]\n",
    "DwightHoward_FT = [356,390,529,504,483,546,281,355,349,143]\n",
    "ChrisBosh_FT = [474,463,472,504,470,384,229,241,223,179]\n",
    "ChrisPaul_FT = [394,292,332,455,161,337,260,286,295,289]\n",
    "KevinDurant_FT = [209,209,391,452,756,594,431,679,703,146]\n",
    "DerrickRose_FT = [146,146,146,197,259,476,194,0,27,152]\n",
    "DwayneWade_FT = [629,432,354,590,534,494,235,308,189,284]\n",
    "#Matrix\n",
    "FreeThrows = np.array([KobeBryant_FT, JoeJohnson_FT, LeBronJames_FT, CarmeloAnthony_FT, DwightHoward_FT, ChrisBosh_FT, ChrisPaul_FT, KevinDurant_FT, DerrickRose_FT, DwayneWade_FT])\n",
    "\n",
    "#Free Throw Attempts\n",
    "KobeBryant_FTA = [819,768,742,564,541,583,451,626,21,241]\n",
    "JoeJohnson_FTA = [330,314,379,362,269,243,186,161,195,176]\n",
    "LeBronJames_FTA = [814,701,771,762,773,663,502,535,585,528]\n",
    "CarmeloAnthony_FTA = [709,568,590,468,612,605,367,512,541,237]\n",
    "DwightHoward_FTA = [598,666,897,849,816,916,572,721,638,271]\n",
    "ChrisBosh_FTA = [581,590,559,617,590,471,279,302,272,232]\n",
    "ChrisPaul_FTA = [465,357,390,524,190,384,302,323,345,321]\n",
    "KevinDurant_FTA = [256,256,448,524,840,675,501,750,805,171]\n",
    "DerrickRose_FTA = [205,205,205,250,338,555,239,0,32,187]\n",
    "DwayneWade_FTA = [803,535,467,771,702,652,297,425,258,370]\n",
    "#Matrix\n",
    "FreeThrowsAttempts = np.array([KobeBryant_FTA, JoeJohnson_FTA, LeBronJames_FTA, CarmeloAnthony_FTA, DwightHoward_FTA, ChrisBosh_FTA, ChrisPaul_FTA, KevinDurant_FTA, DerrickRose_FTA, DwayneWade_FTA])\n"
   ]
  },
  {
   "cell_type": "code",
   "execution_count": null,
   "metadata": {},
   "outputs": [],
   "source": [
    "### 28. Building Your First Matrix"
   ]
  },
  {
   "cell_type": "code",
   "execution_count": 5,
   "metadata": {},
   "outputs": [
    {
     "name": "stdout",
     "output_type": "stream",
     "text": [
      "[ 0  1  2  3  4  5  6  7  8  9 10 11 12 13 14 15 16 17 18 19]\n"
     ]
    }
   ],
   "source": [
    "import numpy as np\n",
    "mydata = np.arange(0,20)\n",
    "print(mydata)"
   ]
  },
  {
   "cell_type": "code",
   "execution_count": null,
   "metadata": {},
   "outputs": [],
   "source": [
    "np.reshape(mydata, (5,4)) #NOTE: default is opposite to R"
   ]
  },
  {
   "cell_type": "code",
   "execution_count": 6,
   "metadata": {},
   "outputs": [
    {
     "data": {
      "text/plain": [
       "array([[ 0,  1,  2,  3],\n",
       "       [ 4,  5,  6,  7],\n",
       "       [ 8,  9, 10, 11],\n",
       "       [12, 13, 14, 15],\n",
       "       [16, 17, 18, 19]])"
      ]
     },
     "execution_count": 6,
     "metadata": {},
     "output_type": "execute_result"
    }
   ],
   "source": [
    "m1 = np.reshape(mydata, (5,4), order='C')\n",
    "m1"
   ]
  },
  {
   "cell_type": "code",
   "execution_count": null,
   "metadata": {},
   "outputs": [],
   "source": [
    "#Exercise - get to the number 10:\n",
    "print(m1[2,2])"
   ]
  },
  {
   "cell_type": "code",
   "execution_count": null,
   "metadata": {},
   "outputs": [],
   "source": [
    "m1 = np.reshape(mydata, (5,4), order='F')\n",
    "m1"
   ]
  },
  {
   "cell_type": "code",
   "execution_count": null,
   "metadata": {},
   "outputs": [],
   "source": [
    "#Exercise - get to the number 10:\n",
    "print(m1[0,2])"
   ]
  },
  {
   "cell_type": "code",
   "execution_count": null,
   "metadata": {},
   "outputs": [],
   "source": [
    "#-----------------"
   ]
  },
  {
   "cell_type": "code",
   "execution_count": 7,
   "metadata": {},
   "outputs": [],
   "source": [
    "r1 = [\"I\", \"am\", \"happy\"]\n",
    "r2 = [\"What\", \"a\", \"day\"]\n",
    "r3 = [1, 2, 3]"
   ]
  },
  {
   "cell_type": "code",
   "execution_count": 8,
   "metadata": {},
   "outputs": [
    {
     "name": "stdout",
     "output_type": "stream",
     "text": [
      "[['I' 'am' 'happy']\n",
      " ['What' 'a' 'day']\n",
      " ['1' '2' '3']]\n"
     ]
    }
   ],
   "source": [
    "print(np.array([r1, r2, r3]))"
   ]
  },
  {
   "cell_type": "code",
   "execution_count": null,
   "metadata": {},
   "outputs": [],
   "source": [
    "### 29. Dictionaries in Python"
   ]
  },
  {
   "cell_type": "code",
   "execution_count": null,
   "metadata": {},
   "outputs": [],
   "source": [
    "dict1 = {'key1':'val1', 'key2':'val2', 'key3':'val3'}"
   ]
  },
  {
   "cell_type": "code",
   "execution_count": null,
   "metadata": {},
   "outputs": [],
   "source": [
    "dict2 = {'Germany':'I have been here', 'France':2, 'Spain':True}"
   ]
  },
  {
   "cell_type": "code",
   "execution_count": null,
   "metadata": {},
   "outputs": [],
   "source": [
    "#---------------------"
   ]
  },
  {
   "cell_type": "code",
   "execution_count": 9,
   "metadata": {},
   "outputs": [
    {
     "data": {
      "text/plain": [
       "78"
      ]
     },
     "execution_count": 9,
     "metadata": {},
     "output_type": "execute_result"
    }
   ],
   "source": [
    "Games[Pdict['KobeBryant'],Sdict['2012']]"
   ]
  },
  {
   "cell_type": "code",
   "execution_count": null,
   "metadata": {},
   "outputs": [],
   "source": [
    "### 30. Matrix Operations"
   ]
  },
  {
   "cell_type": "code",
   "execution_count": 10,
   "metadata": {},
   "outputs": [
    {
     "data": {
      "text/plain": [
       "array([[978, 813, 775, 800, 716, 740, 574, 738,  31, 266],\n",
       "       [632, 536, 647, 620, 635, 514, 423, 445, 462, 446],\n",
       "       [875, 772, 794, 789, 768, 758, 621, 765, 767, 624],\n",
       "       [756, 691, 728, 535, 688, 684, 441, 669, 743, 358],\n",
       "       [468, 526, 583, 560, 510, 619, 416, 470, 473, 251],\n",
       "       [549, 543, 507, 615, 600, 524, 393, 485, 492, 343],\n",
       "       [407, 381, 630, 631, 314, 430, 425, 412, 406, 568],\n",
       "       [306, 306, 587, 661, 794, 711, 643, 731, 849, 238],\n",
       "       [208, 208, 208, 574, 672, 711, 302,   0,  58, 338],\n",
       "       [699, 472, 439, 854, 719, 692, 416, 569, 415, 509]])"
      ]
     },
     "execution_count": 10,
     "metadata": {},
     "output_type": "execute_result"
    }
   ],
   "source": [
    "FieldGoals"
   ]
  },
  {
   "cell_type": "code",
   "execution_count": 11,
   "metadata": {},
   "outputs": [
    {
     "data": {
      "text/plain": [
       "array([[80, 77, 82, 82, 73, 82, 58, 78,  6, 35],\n",
       "       [82, 57, 82, 79, 76, 72, 60, 72, 79, 80],\n",
       "       [79, 78, 75, 81, 76, 79, 62, 76, 77, 69],\n",
       "       [80, 65, 77, 66, 69, 77, 55, 67, 77, 40],\n",
       "       [82, 82, 82, 79, 82, 78, 54, 76, 71, 41],\n",
       "       [70, 69, 67, 77, 70, 77, 57, 74, 79, 44],\n",
       "       [78, 64, 80, 78, 45, 80, 60, 70, 62, 82],\n",
       "       [35, 35, 80, 74, 82, 78, 66, 81, 81, 27],\n",
       "       [40, 40, 40, 81, 78, 81, 39,  0, 10, 51],\n",
       "       [75, 51, 51, 79, 77, 76, 49, 69, 54, 62]])"
      ]
     },
     "execution_count": 11,
     "metadata": {},
     "output_type": "execute_result"
    }
   ],
   "source": [
    "Games"
   ]
  },
  {
   "cell_type": "code",
   "execution_count": 12,
   "metadata": {},
   "outputs": [
    {
     "name": "stdout",
     "output_type": "stream",
     "text": [
      "[[12. 11.  9. 10. 10.  9. 10.  9.  5.  8.]\n",
      " [ 8.  9.  8.  8.  8.  7.  7.  6.  6.  6.]\n",
      " [11. 10. 11. 10. 10. 10. 10. 10. 10.  9.]\n",
      " [ 9. 11.  9.  8. 10.  9.  8. 10. 10.  9.]\n",
      " [ 6.  6.  7.  7.  6.  8.  8.  6.  7.  6.]\n",
      " [ 8.  8.  8.  8.  9.  7.  7.  7.  6.  8.]\n",
      " [ 5.  6.  8.  8.  7.  5.  7.  6.  7.  7.]\n",
      " [ 9.  9.  7.  9. 10.  9. 10.  9. 10.  9.]\n",
      " [ 5.  5.  5.  7.  9.  9.  8. nan  6.  7.]\n",
      " [ 9.  9.  9. 11.  9.  9.  8.  8.  8.  8.]]\n"
     ]
    }
   ],
   "source": [
    "import warnings\n",
    "warnings.filterwarnings('ignore')\n",
    "\n",
    "FieldGoalsPerGame = np.matrix.round(FieldGoals / Games)\n",
    "print(FieldGoalsPerGame)"
   ]
  },
  {
   "cell_type": "code",
   "execution_count": 23,
   "metadata": {},
   "outputs": [
    {
     "data": {
      "text/plain": [
       "11.0"
      ]
     },
     "execution_count": 23,
     "metadata": {},
     "output_type": "execute_result"
    }
   ],
   "source": [
    "FieldGoalsPerGame[Pdict['LeBronJames'],Sdict['2005']]"
   ]
  },
  {
   "cell_type": "code",
   "execution_count": 17,
   "metadata": {},
   "outputs": [
    {
     "name": "stdout",
     "output_type": "stream",
     "text": [
      "[[3277 3140 3192 2960 2835 2779 2232 3013  177 1207]\n",
      " [3340 2359 3343 3124 2886 2554 2127 2642 2575 2791]\n",
      " [3361 3190 3027 3054 2966 3063 2326 2877 2902 2493]\n",
      " [2941 2486 2806 2277 2634 2751 1876 2482 2982 1428]\n",
      " [3021 3023 3088 2821 2843 2935 2070 2722 2396 1223]\n",
      " [2751 2658 2425 2928 2526 2795 2007 2454 2531 1556]\n",
      " [2808 2353 3006 3002 1712 2880 2181 2335 2171 2857]\n",
      " [1255 1255 2768 2885 3239 3038 2546 3119 3122  913]\n",
      " [1168 1168 1168 3000 2871 3026 1375    0  311 1530]\n",
      " [2892 1931 1954 3048 2792 2823 1625 2391 1775 1971]]\n",
      "[[41. 41. 39. 36. 39. 34. 38. 39. 30. 34.]\n",
      " [41. 41. 41. 40. 38. 35. 35. 37. 33. 35.]\n",
      " [43. 41. 40. 38. 39. 39. 38. 38. 38. 36.]\n",
      " [37. 38. 36. 34. 38. 36. 34. 37. 39. 36.]\n",
      " [37. 37. 38. 36. 35. 38. 38. 36. 34. 30.]\n",
      " [39. 39. 36. 38. 36. 36. 35. 33. 32. 35.]\n",
      " [36. 37. 38. 38. 38. 36. 36. 33. 35. 35.]\n",
      " [36. 36. 35. 39. 40. 39. 39. 39. 39. 34.]\n",
      " [29. 29. 29. 37. 37. 37. 35. nan 31. 30.]\n",
      " [39. 38. 38. 39. 36. 37. 33. 35. 33. 32.]]\n"
     ]
    }
   ],
   "source": [
    "MinutesPlayedPerGame = np.matrix.round(MinutesPlayed / Games)\n",
    "print(MinutesPlayed)\n",
    "print(MinutesPlayedPerGame)"
   ]
  },
  {
   "cell_type": "code",
   "execution_count": 18,
   "metadata": {},
   "outputs": [
    {
     "name": "stdout",
     "output_type": "stream",
     "text": [
      "[[45. 46. 46. 47. 46. 45. 43. 46. 42. 37.]\n",
      " [45. 47. 43. 44. 46. 44. 45. 42. 45. 44.]\n",
      " [48. 48. 48. 49. 50. 51. 53. 56. 57. 49.]\n",
      " [48. 48. 49. 44. 46. 46. 43. 45. 45. 44.]\n",
      " [53. 60. 60. 57. 61. 59. 57. 58. 59. 59.]\n",
      " [51. 50. 49. 49. 52. 50. 49. 53. 52. 46.]\n",
      " [43. 44. 49. 50. 49. 46. 48. 48. 47. 49.]\n",
      " [47. 47. 43. 48. 48. 46. 50. 51. 50. 51.]\n",
      " [48. 48. 48. 48. 49. 45. 43. nan 35. 40.]\n",
      " [49. 49. 47. 49. 48. 50. 50. 52. 55. 47.]]\n"
     ]
    }
   ],
   "source": [
    "FieldGoalsAccuracy = np.matrix.round(100 * FieldGoals / FieldGoalAttempts)\n",
    "print(FieldGoalsAccuracy)"
   ]
  },
  {
   "cell_type": "code",
   "execution_count": 31,
   "metadata": {},
   "outputs": [
    {
     "data": {
      "text/plain": [
       "59.0"
      ]
     },
     "execution_count": 31,
     "metadata": {},
     "output_type": "execute_result"
    }
   ],
   "source": [
    "FieldGoalsAccuracy[Pdict['DwightHoward'],Sdict['2014']]"
   ]
  },
  {
   "cell_type": "code",
   "execution_count": null,
   "metadata": {},
   "outputs": [],
   "source": [
    "### 31. Your First Visualization"
   ]
  },
  {
   "cell_type": "code",
   "execution_count": 32,
   "metadata": {},
   "outputs": [],
   "source": [
    "import numpy as np\n",
    "import matplotlib.pyplot as plt"
   ]
  },
  {
   "cell_type": "code",
   "execution_count": null,
   "metadata": {},
   "outputs": [],
   "source": [
    "%matplotlib inline #put plots in jupyter instead of pop up windows\n",
    "plt.rcParams['figure.figsize'] = 8,4"
   ]
  },
  {
   "cell_type": "code",
   "execution_count": null,
   "metadata": {},
   "outputs": [],
   "source": [
    "plt.plot(Salary[Pdict['LeBronJames']], c='Green', ls='--', marker='s', ms=8)\n",
    "plt.show()"
   ]
  },
  {
   "cell_type": "code",
   "execution_count": null,
   "metadata": {},
   "outputs": [],
   "source": [
    "plt.plot(Salary[0], c='Green', ls='--', marker='s', ms=8, label=Players[0])\n",
    "plt.xticks(list(range(0,10)), Seasons, rotation='vertical')\n",
    "plt.show()"
   ]
  },
  {
   "cell_type": "code",
   "execution_count": null,
   "metadata": {},
   "outputs": [],
   "source": [
    "### 32. Expanded Visualization"
   ]
  },
  {
   "cell_type": "code",
   "execution_count": null,
   "metadata": {
    "scrolled": false
   },
   "outputs": [],
   "source": [
    "plt.plot(Salary[0], c='Black', ls='--', marker='s', ms=7, label=Players[0])\n",
    "plt.plot(Salary[1], c='Red', ls=':', marker='o', ms=7, label=Players[1])\n",
    "plt.plot(Salary[2], c='Green', ls='-.', marker='^', ms=7, label=Players[2])\n",
    "plt.plot(Salary[3], c='Blue', ls='-.', marker='D', ms=7, label=Players[3])\n",
    "plt.plot(Salary[4], c='Magenta', ls='--', marker='s', ms=7, label=Players[4])\n",
    "plt.plot(Salary[5], c='Black', ls='--', marker='o', ms=7, label=Players[5])\n",
    "plt.plot(Salary[6], c='Red', ls='--', marker='^', ms=7, label=Players[6])\n",
    "plt.plot(Salary[7], c='Green', ls='--', marker='D', ms=7, label=Players[7])\n",
    "plt.plot(Salary[8], c='Blue', ls='--', marker='s', ms=7, label=Players[8])\n",
    "plt.plot(Salary[9], c='Magenta', ls='--', marker='o', ms=7, label=Players[9])\n",
    "plt.legend(loc='upper left', bbox_to_anchor = (1,1))\n",
    "plt.xticks(list(range(0,10)), Seasons, rotation='vertical')\n",
    "plt.show()"
   ]
  },
  {
   "cell_type": "code",
   "execution_count": null,
   "metadata": {},
   "outputs": [],
   "source": [
    "plt.plot(Points[0], c='Black', ls='--', marker='s', ms=7, label=Players[0])\n",
    "plt.plot(Points[1], c='Red', ls=':', marker='o', ms=7, label=Players[1])\n",
    "plt.plot(Points[2], c='Green', ls='-.', marker='^', ms=7, label=Players[2])\n",
    "plt.plot(Points[3], c='Blue', ls='-.', marker='D', ms=7, label=Players[3])\n",
    "plt.plot(Points[4], c='Magenta', ls='--', marker='s', ms=7, label=Players[4])\n",
    "plt.plot(Points[5], c='Black', ls='--', marker='o', ms=7, label=Players[5])\n",
    "plt.plot(Points[6], c='Red', ls='--', marker='^', ms=7, label=Players[6])\n",
    "plt.plot(Points[7], c='Green', ls='--', marker='D', ms=7, label=Players[7])\n",
    "plt.plot(Points[8], c='Blue', ls='--', marker='s', ms=7, label=Players[8])\n",
    "plt.plot(Points[9], c='Magenta', ls='--', marker='o', ms=7, label=Players[9])\n",
    "plt.legend(loc='upper left', bbox_to_anchor = (1,1))\n",
    "plt.xticks(list(range(0,10)), Seasons, rotation='vertical')\n",
    "plt.show()"
   ]
  },
  {
   "cell_type": "code",
   "execution_count": null,
   "metadata": {},
   "outputs": [],
   "source": [
    "### 33. Creating Your First Function"
   ]
  },
  {
   "cell_type": "code",
   "execution_count": null,
   "metadata": {},
   "outputs": [],
   "source": [
    "def myplot(playerlist):\n",
    "    for name in playerlist:\n",
    "        plt.plot(Points[Pdict[name]], marker='o', ms=7, label=name)\n",
    "    plt.legend(loc='upper left', bbox_to_anchor = (1,1))\n",
    "    plt.xticks(list(range(0,10)), Seasons, rotation='vertical')\n",
    "    plt.show() "
   ]
  },
  {
   "cell_type": "code",
   "execution_count": null,
   "metadata": {},
   "outputs": [],
   "source": [
    "myplot([\"KobeBryant\",\"LeBronJames\",\"DerrickRose\"])"
   ]
  },
  {
   "cell_type": "code",
   "execution_count": null,
   "metadata": {},
   "outputs": [],
   "source": [
    "### 34. Advanced Function Design"
   ]
  },
  {
   "cell_type": "code",
   "execution_count": null,
   "metadata": {},
   "outputs": [],
   "source": [
    "def myplot2(playerlist):\n",
    "    Col = {\"KobeBryant\":\"Black\",\"JoeJohnson\":\"Red\",\"LeBronJames\":\"Green\",\"CarmeloAnthony\":\"Blue\",\"DwightHoward\":\"Magenta\",\"ChrisBosh\":\"Cyan\",\"ChrisPaul\":\"Yellow\",\"KevinDurant\":\"Indigo\",\"DerrickRose\":\"Chocolate\",\"DwayneWade\":\"Lime\"}\n",
    "    Marker = {\"KobeBryant\":\".\",\"JoeJohnson\":\"o\",\"LeBronJames\":\"v\",\"CarmeloAnthony\":\"s\",\"DwightHoward\":\"2\",\"ChrisBosh\":\"x\",\"ChrisPaul\":\"*\",\"KevinDurant\":\"<\",\"DerrickRose\":\"3\",\"DwayneWade\":\"d\"}\n",
    "    for name in playerlist:\n",
    "        plt.plot(Games[Pdict[name]], c=Col[name], marker=Marker[name], ms=7, label=name)\n",
    "    plt.legend(loc='upper left', bbox_to_anchor = (1,1))\n",
    "    plt.xticks(list(range(0,10)), Seasons, rotation='vertical')\n",
    "    plt.show() "
   ]
  },
  {
   "cell_type": "code",
   "execution_count": null,
   "metadata": {},
   "outputs": [],
   "source": [
    "myplot2([\"KobeBryant\",\"JoeJohnson\",\"LeBronJames\",\"CarmeloAnthony\",\"DwightHoward\",\"ChrisBosh\",\"ChrisPaul\",\"KevinDurant\",\"DerrickRose\",\"DwayneWade\"])"
   ]
  },
  {
   "cell_type": "code",
   "execution_count": null,
   "metadata": {},
   "outputs": [],
   "source": [
    "#Fix up the inputs\n",
    "def myplot3(data, playerlist = Players):\n",
    "    Col = {\"KobeBryant\":\"Black\",\"JoeJohnson\":\"Red\",\"LeBronJames\":\"Green\",\"CarmeloAnthony\":\"Blue\",\"DwightHoward\":\"Magenta\",\"ChrisBosh\":\"Cyan\",\"ChrisPaul\":\"Yellow\",\"KevinDurant\":\"Indigo\",\"DerrickRose\":\"Chocolate\",\"DwayneWade\":\"Lime\"}\n",
    "    Marker = {\"KobeBryant\":\".\",\"JoeJohnson\":\"o\",\"LeBronJames\":\"v\",\"CarmeloAnthony\":\"s\",\"DwightHoward\":\"2\",\"ChrisBosh\":\"x\",\"ChrisPaul\":\"*\",\"KevinDurant\":\"<\",\"DerrickRose\":\"3\",\"DwayneWade\":\"d\"}\n",
    "    for name in playerlist:\n",
    "        plt.plot(data[Pdict[name]], c=Col[name], marker=Marker[name], ms=7, label=name)\n",
    "    plt.legend(loc='upper left', bbox_to_anchor = (1,1))\n",
    "    plt.xticks(list(range(0,10)), Seasons, rotation='vertical')\n",
    "    plt.show() "
   ]
  },
  {
   "cell_type": "code",
   "execution_count": null,
   "metadata": {
    "scrolled": true
   },
   "outputs": [],
   "source": [
    "myplot3(Salary, [\"KobeBryant\",\"JoeJohnson\",\"LeBronJames\",\"CarmeloAnthony\",\"DwightHoward\",\"ChrisBosh\",\"ChrisPaul\",\"KevinDurant\",\"DerrickRose\",\"DwayneWade\"])"
   ]
  },
  {
   "cell_type": "code",
   "execution_count": null,
   "metadata": {},
   "outputs": [],
   "source": [
    "myplot3(Salary)"
   ]
  },
  {
   "cell_type": "code",
   "execution_count": null,
   "metadata": {},
   "outputs": [],
   "source": [
    "### 35. Insights"
   ]
  },
  {
   "cell_type": "code",
   "execution_count": null,
   "metadata": {},
   "outputs": [],
   "source": [
    "#Salary\n",
    "myplot3(Salary)\n",
    "myplot3(Salary / Games)\n",
    "myplot3(Salary / FieldGoals)"
   ]
  },
  {
   "cell_type": "code",
   "execution_count": null,
   "metadata": {},
   "outputs": [],
   "source": [
    "#In-Game Metrics\n",
    "myplot3(MinutesPlayed)\n",
    "myplot3(Points)"
   ]
  },
  {
   "cell_type": "code",
   "execution_count": null,
   "metadata": {},
   "outputs": [],
   "source": [
    "#In-Game Metrics Normalized\n",
    "myplot3(FieldGoals/Games)\n",
    "myplot3(FieldGoals/FieldGoalAttempts)\n",
    "myplot3(FieldGoalAttempts/Games)\n",
    "myplot3(Points/Games)"
   ]
  },
  {
   "cell_type": "code",
   "execution_count": null,
   "metadata": {},
   "outputs": [],
   "source": [
    "#Interesting Observation\n",
    "myplot3(MinutesPlayed/Games)\n",
    "myplot3(Games)"
   ]
  },
  {
   "cell_type": "code",
   "execution_count": null,
   "metadata": {},
   "outputs": [],
   "source": [
    "#Time is Valuable\n",
    "myplot3(FieldGoals/MinutesPlayed)"
   ]
  },
  {
   "cell_type": "code",
   "execution_count": null,
   "metadata": {},
   "outputs": [],
   "source": [
    "#Player Style\n",
    "myplot3(Points/FieldGoals)"
   ]
  },
  {
   "cell_type": "code",
   "execution_count": null,
   "metadata": {},
   "outputs": [],
   "source": [
    "### 37. Homework"
   ]
  },
  {
   "cell_type": "code",
   "execution_count": null,
   "metadata": {},
   "outputs": [],
   "source": [
    "#Visualize the news matrices\n",
    "myplot3(FreeThrows)"
   ]
  },
  {
   "cell_type": "code",
   "execution_count": null,
   "metadata": {},
   "outputs": [],
   "source": [
    "myplot3(FreeThrowsAttempts)"
   ]
  },
  {
   "cell_type": "code",
   "execution_count": null,
   "metadata": {},
   "outputs": [],
   "source": [
    "# Function"
   ]
  },
  {
   "cell_type": "code",
   "execution_count": null,
   "metadata": {},
   "outputs": [],
   "source": [
    "def myplotH(data, playerlist = Players):\n",
    "    Col = {\"KobeBryant\":\"Black\",\"JoeJohnson\":\"Red\",\"LeBronJames\":\"Green\",\"CarmeloAnthony\":\"Blue\",\"DwightHoward\":\"Magenta\",\"ChrisBosh\":\"Cyan\",\"ChrisPaul\":\"Yellow\",\"KevinDurant\":\"Indigo\",\"DerrickRose\":\"Chocolate\",\"DwayneWade\":\"Lime\"}\n",
    "    Marker = {\"KobeBryant\":\".\",\"JoeJohnson\":\"o\",\"LeBronJames\":\"v\",\"CarmeloAnthony\":\"s\",\"DwightHoward\":\"2\",\"ChrisBosh\":\"x\",\"ChrisPaul\":\"*\",\"KevinDurant\":\"<\",\"DerrickRose\":\"3\",\"DwayneWade\":\"d\"}    \n",
    "    for i in playerlist:\n",
    "        plt.plot(data[Pdict[i]], c = Col[i], marker = Marker[i], ms = 7, label = i)\n",
    "    plt.legend(loc=\"upper left\", bbox_to_anchor = (1,1))\n",
    "    plt.xticks(list(range(0,10)), Seasons, rotation=\"vertical\")\n",
    "    plt.show()"
   ]
  },
  {
   "cell_type": "code",
   "execution_count": null,
   "metadata": {},
   "outputs": [],
   "source": [
    "# 1 - FTA per Game\n",
    "myplotH(FreeThrowsAttempts/Games)"
   ]
  },
  {
   "cell_type": "code",
   "execution_count": null,
   "metadata": {},
   "outputs": [],
   "source": [
    "# 2 - Accuracy of Free Throws\n",
    "myplotH(FreeThrows/FreeThrowsAttempts*100)"
   ]
  },
  {
   "cell_type": "code",
   "execution_count": null,
   "metadata": {},
   "outputs": [],
   "source": [
    "# 3 - Player playing style (2 vs 3 pts) excluding Free Throws\n",
    "myplotH((Points-FreeThrows)/FieldGoals)"
   ]
  },
  {
   "cell_type": "code",
   "execution_count": null,
   "metadata": {},
   "outputs": [],
   "source": [
    "# Quiz\n",
    "\n",
    "def myfunc(list1=[1,2,3,4,5]):\n",
    "    print(list1)"
   ]
  },
  {
   "cell_type": "code",
   "execution_count": null,
   "metadata": {},
   "outputs": [],
   "source": [
    "myfunc(['Hello', 'Python'])"
   ]
  },
  {
   "cell_type": "code",
   "execution_count": null,
   "metadata": {},
   "outputs": [],
   "source": []
  }
 ],
 "metadata": {
  "kernelspec": {
   "display_name": "Python 3",
   "language": "python",
   "name": "python3"
  },
  "language_info": {
   "codemirror_mode": {
    "name": "ipython",
    "version": 3
   },
   "file_extension": ".py",
   "mimetype": "text/x-python",
   "name": "python",
   "nbconvert_exporter": "python",
   "pygments_lexer": "ipython3",
   "version": "3.8.5"
  }
 },
 "nbformat": 4,
 "nbformat_minor": 2
}
